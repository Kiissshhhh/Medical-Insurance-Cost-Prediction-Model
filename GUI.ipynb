{
 "cells": [
  {
   "cell_type": "code",
   "execution_count": 1,
   "id": "b5328fe2-1b76-43ca-9787-5df5b85337ad",
   "metadata": {},
   "outputs": [],
   "source": [
    "import tkinter as ttk\n",
    "import pandas as pd\n",
    "import pickle\n",
    "model = pickle.load(open('prediction.sav', 'rb'))"
   ]
  },
  {
   "cell_type": "code",
   "execution_count": 2,
   "id": "415410b3-eb74-44c9-b49c-244bac0c87af",
   "metadata": {},
   "outputs": [
    {
     "data": {
      "text/plain": [
       "''"
      ]
     },
     "execution_count": 2,
     "metadata": {},
     "output_type": "execute_result"
    }
   ],
   "source": [
    "app = ttk.Tk()\n",
    "app.geometry('400x380')\n",
    "app.title('Medical Insurance Cost Predictor')"
   ]
  },
  {
   "cell_type": "code",
   "execution_count": 3,
   "id": "177ca433-bed4-426e-829b-3360971a0afe",
   "metadata": {},
   "outputs": [],
   "source": [
    "app.configure(background='#DF2340')"
   ]
  },
  {
   "cell_type": "markdown",
   "id": "537ccd9a-a3c5-4093-b943-335825ad7853",
   "metadata": {},
   "source": [
    "#title\n",
    "t_h= ttk.Label(text='Welcome to Used Car Price Prediction system', padx=40,pady=10,bg='#A24857',fg='white',font=50)\n",
    "t_h.grid(row=0, column = 0)\n",
    "t_h.pack()"
   ]
  },
  {
   "cell_type": "code",
   "execution_count": 4,
   "id": "40a707db-de14-4a2f-b890-83a460f7bcfb",
   "metadata": {},
   "outputs": [],
   "source": [
    "# Gender Type\n",
    "o_p=ttk.Label(app,font=50,text='Gender', padx=40,pady=10,bg='#DF2340',fg='white')\n",
    "o_p.grid(row=0, column = 0)\n",
    "\n",
    "trans = {\n",
    "    'Female': 1,\n",
    "    'Male': 0\n",
    "}\n",
    "genderVar = ttk.Variable(app)\n",
    "genderVar.set(trans['Female'])\n",
    "frame = ttk.Frame(app)\n",
    "frame.grid(row = 0, column = 1)\n",
    "for transmission, genderValue in trans.items():\n",
    "    ttk.Radiobutton(frame, text = transmission, variable = genderVar, value = genderValue).\\\n",
    "        pack(side=ttk.LEFT)\n",
    "    \n",
    "\n",
    "# Smoker Type\n",
    "o_p=ttk.Label(app,font=50,text='Smoker', padx=40,pady=10,bg='#DF2340',fg='white')\n",
    "o_p.grid(row=1, column = 0)\n",
    "\n",
    "trans = {\n",
    "    'No': 1,\n",
    "    'Yes': 0\n",
    "}\n",
    "smokerVar = ttk.Variable(app)\n",
    "smokerVar.set(trans['No'])\n",
    "frame = ttk.Frame(app)\n",
    "frame.grid(row = 1, column = 1)\n",
    "for transmission, smokerValue in trans.items():\n",
    "    ttk.Radiobutton(frame, text = transmission, variable = smokerVar, value = smokerValue).\\\n",
    "        pack(side=ttk.LEFT)\n",
    "        \n"
   ]
  },
  {
   "cell_type": "code",
   "execution_count": 5,
   "id": "8baa2cb2-e161-4216-b70c-73ac66f36caa",
   "metadata": {},
   "outputs": [],
   "source": [
    "# Age\n",
    "ttk.Label(app, text='Age', padx=40,pady=10,bg='#DF2340',fg='white',font=50).grid(row=3, column = 0)\n",
    "ageVar = ttk.DoubleVar(app)\n",
    "ageVar.set(0.0)\n",
    "ttk.Spinbox(app, from_ = 15, to = 100, textvariable = ageVar, width=10).grid(row=3, column = 1)\n",
    "\n",
    "# BMI\n",
    "ttk.Label(app, text='BMI',bg='#DF2340',fg='white',font=50, padx=20,pady=0).grid(row=5, column = 0)\n",
    "bmiVar = ttk.DoubleVar(app)\n",
    "bmiVar.set(0.0)\n",
    "ttk.Spinbox(app, from_ = 15, to = 30, textvariable = bmiVar, width=10).grid(row=5, column = 1)\n",
    "\n",
    "#Children\n",
    "ttk.Label(app, text='Children',bg='#DF2340',fg='white',font=50, padx=20,pady=0).grid(row=7, column = 0)\n",
    "childVar = ttk.DoubleVar(app)\n",
    "childVar.set(0.0)\n",
    "ttk.Spinbox(app, from_ = 0, to = 10, textvariable = childVar, width=10).grid(row=7, column = 1)\n",
    "\n",
    "#Region\n",
    "ttk.Label(app, text='Region',bg='#DF2340',fg='white',font=50, padx=20,pady=0).grid(row=9, column = 0)\n",
    "regionVar = ttk.DoubleVar(app)\n",
    "regionVar.set(0.0)\n",
    "ttk.Spinbox(app, from_ = 0, to = 3, textvariable = regionVar, width=10).grid(row=9, column = 1)"
   ]
  },
  {
   "cell_type": "code",
   "execution_count": 6,
   "id": "c5c57f68-d179-45e3-adb5-1d8927796688",
   "metadata": {},
   "outputs": [],
   "source": [
    "# Prediciton Button\n",
    "def find_price():\n",
    "    global model\n",
    "    values = [[ageVar.get()],[genderVar.get()],[bmiVar.get()],[childVar.get()],[smokerVar.get()],[regionVar.get()]]\n",
    "    cols = model.feature_names_in_\n",
    "    query_df = pd.DataFrame(dict(zip(cols,values)))\n",
    "    pred = round(model.predict(query_df)[0],1)\n",
    "    resultVar.set(f'₹{pred}')"
   ]
  },
  {
   "cell_type": "code",
   "execution_count": 7,
   "id": "8aff5d72-1ba8-4ba4-bef8-78bdefa6f176",
   "metadata": {},
   "outputs": [],
   "source": [
    "ttk.Button(app, text='Predict',fg=\"black\",bg='#FEF9E7', command = find_price, padx=10, pady=1).\\\n",
    "    grid(row = 20, column=1, columnspan=2)"
   ]
  },
  {
   "cell_type": "code",
   "execution_count": 8,
   "id": "e051ab70-6f55-40c0-b47c-d38ff627259a",
   "metadata": {},
   "outputs": [],
   "source": [
    "# Result\n",
    "resultVar = ttk.Variable(app)\n",
    "ttk.Label(app, textvariable=resultVar,padx=10,pady=0,bg=\"#DF2340\", font=('Times New Roman',20)).\\\n",
    "    grid(row = 30, column=1, columnspan=2)"
   ]
  },
  {
   "cell_type": "code",
   "execution_count": 9,
   "id": "90ca0df1-8bb1-4de1-93c4-ada0753186c6",
   "metadata": {},
   "outputs": [],
   "source": [
    "app.mainloop()"
   ]
  },
  {
   "cell_type": "code",
   "execution_count": null,
   "id": "e8174623-62a7-4083-852e-41587f700185",
   "metadata": {},
   "outputs": [],
   "source": []
  }
 ],
 "metadata": {
  "kernelspec": {
   "display_name": "Python 3 (ipykernel)",
   "language": "python",
   "name": "python3"
  },
  "language_info": {
   "codemirror_mode": {
    "name": "ipython",
    "version": 3
   },
   "file_extension": ".py",
   "mimetype": "text/x-python",
   "name": "python",
   "nbconvert_exporter": "python",
   "pygments_lexer": "ipython3",
   "version": "3.12.0"
  }
 },
 "nbformat": 4,
 "nbformat_minor": 5
}
